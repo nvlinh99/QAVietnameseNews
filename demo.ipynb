{
 "cells": [
  {
   "cell_type": "markdown",
   "metadata": {},
   "source": [
    "# Install environments"
   ]
  },
  {
   "cell_type": "code",
   "execution_count": 4,
   "metadata": {
    "execution": {
     "iopub.execute_input": "2024-10-04T18:50:06.943745Z",
     "iopub.status.busy": "2024-10-04T18:50:06.943098Z",
     "iopub.status.idle": "2024-10-04T18:50:06.948095Z",
     "shell.execute_reply": "2024-10-04T18:50:06.947199Z",
     "shell.execute_reply.started": "2024-10-04T18:50:06.943705Z"
    },
    "trusted": true
   },
   "outputs": [],
   "source": [
    "# Delete all files and folders in the working directory. Use with caution!\n",
    "import shutil\n",
    "shutil.rmtree(\"/kaggle/working\", ignore_errors=True)"
   ]
  },
  {
   "cell_type": "code",
   "execution_count": null,
   "metadata": {
    "execution": {
     "iopub.execute_input": "2024-10-04T17:22:37.006959Z",
     "iopub.status.busy": "2024-10-04T17:22:37.006680Z",
     "iopub.status.idle": "2024-10-04T17:22:40.637490Z",
     "shell.execute_reply": "2024-10-04T17:22:40.636303Z",
     "shell.execute_reply.started": "2024-10-04T17:22:37.006929Z"
    },
    "trusted": true
   },
   "outputs": [
    {
     "name": "stdout",
     "output_type": "stream",
     "text": [
      "Cloning into 'QA_Vietnamese_News'...\n",
      "remote: Enumerating objects: 455, done.\u001b[K\n",
      "remote: Counting objects: 100% (341/341), done.\u001b[K\n",
      "remote: Compressing objects: 100% (289/289), done.\u001b[K\n",
      "remote: Total 455 (delta 61), reused 312 (delta 44), pack-reused 114 (from 1)\u001b[K\n",
      "Receiving objects: 100% (455/455), 31.41 MiB | 22.00 MiB/s, done.\n",
      "Resolving deltas: 100% (100/100), done.\n"
     ]
    }
   ],
   "source": [
    "%cd /kaggle/working\n",
    "!git clone https://github.com/nvlinh99/QAVietnameseNews.git"
   ]
  },
  {
   "cell_type": "code",
   "execution_count": null,
   "metadata": {
    "execution": {
     "iopub.execute_input": "2024-10-04T18:53:24.935152Z",
     "iopub.status.busy": "2024-10-04T18:53:24.934721Z",
     "iopub.status.idle": "2024-10-04T18:53:39.599028Z",
     "shell.execute_reply": "2024-10-04T18:53:39.597902Z",
     "shell.execute_reply.started": "2024-10-04T18:53:24.935092Z"
    },
    "trusted": true
   },
   "outputs": [
    {
     "name": "stdout",
     "output_type": "stream",
     "text": [
      "/kaggle/working/QA_Vietnamese_News\n",
      "\u001b[K\u001b[?25hm##################\u001b[0m] / reify:yargs: \u001b[32;40mtiming\u001b[0m \u001b[35mreifyNode:node_modules/localtunnel/n\u001b[0m\u001b[Kes/loc\u001b[0m\u001b[K\u001b[K\n",
      "changed 22 packages in 738ms\n",
      "\n",
      "3 packages are looking for funding\n",
      "  run `npm fund` for details\n"
     ]
    }
   ],
   "source": [
    "%cd /kaggle/working/QAVietnameseNews\n",
    "!pip install -q -r requirements.txt\n",
    "!npm install -g localtunnel\n",
    "!pip install -q pyngrok"
   ]
  },
  {
   "cell_type": "markdown",
   "metadata": {},
   "source": [
    "# Demo"
   ]
  },
  {
   "cell_type": "code",
   "execution_count": 10,
   "metadata": {
    "execution": {
     "iopub.execute_input": "2024-10-04T18:53:18.760330Z",
     "iopub.status.busy": "2024-10-04T18:53:18.759548Z",
     "iopub.status.idle": "2024-10-04T18:53:19.822994Z",
     "shell.execute_reply": "2024-10-04T18:53:19.821678Z",
     "shell.execute_reply.started": "2024-10-04T18:53:18.760288Z"
    },
    "trusted": true
   },
   "outputs": [
    {
     "name": "stdout",
     "output_type": "stream",
     "text": [
      "34.135.46.200\n"
     ]
    }
   ],
   "source": [
    "! wget -q -O - ipv4.icanhazip.com # paste the port below into the box when run the command below"
   ]
  },
  {
   "cell_type": "code",
   "execution_count": null,
   "metadata": {
    "execution": {
     "iopub.execute_input": "2024-10-04T18:53:39.602123Z",
     "iopub.status.busy": "2024-10-04T18:53:39.601416Z"
    },
    "trusted": true
   },
   "outputs": [
    {
     "name": "stdout",
     "output_type": "stream",
     "text": [
      "\n",
      "Collecting usage statistics. To deactivate, set browser.gatherUsageStats to false.\n",
      "\n",
      "\n",
      "  You can now view your Streamlit app in your browser.\n",
      "\n",
      "  Local URL: http://localhost:8501\n",
      "  Network URL: http://172.19.2.2:8501\n",
      "  External URL: http://34.135.46.200:8501\n",
      "\n",
      "your url is: https://metal-forks-burn.loca.lt\n"
     ]
    },
    {
     "name": "stderr",
     "output_type": "stream",
     "text": [
      "/opt/conda/lib/python3.10/site-packages/transformers/tokenization_utils_base.py:1617: FutureWarning: `clean_up_tokenization_spaces` was not set. It will be set to `True` by default. This behavior will be deprecated in transformers v4.45, and will be then set to `False` by default. For more details check this issue: https://github.com/huggingface/transformers/issues/31884\n",
      "  warnings.warn(\n"
     ]
    },
    {
     "name": "stdout",
     "output_type": "stream",
     "text": [
      "The token has not been saved to the git credentials helper. Pass `add_to_git_credential=True` in this function directly or `--add-to-git-credential` if using via `huggingface-cli` if you want to set the git credential as well.\n",
      "Token is valid (permission: fineGrained).\n",
      "Your token has been saved to /root/.cache/huggingface/token\n",
      "Login successful\n",
      "Running on cuda\n"
     ]
    },
    {
     "name": "stderr",
     "output_type": "stream",
     "text": [
      "Downloading shards: 100%|██████████| 2/2 [00:11<00:00,  5.92s/it]\n",
      "Loading checkpoint shards: 100%|██████████| 2/2 [00:01<00:00,  1.13it/s]\n",
      "INFO:     Started server process [280]\n",
      "INFO:     Waiting for application startup.\n",
      "INFO:     Application startup complete.\n",
      "INFO:     Uvicorn running on http://0.0.0.0:8000 (Press CTRL+C to quit)\n",
      "The 'max_batch_size' argument of HybridCache is deprecated and will be removed in v4.46. Use the more precisely named 'batch_size' argument instead.\n",
      "Starting from v4.46, the `logits` model output will have the same type as the model (except at train time, where it will always be FP32)\n"
     ]
    },
    {
     "name": "stdout",
     "output_type": "stream",
     "text": [
      "Received question: Tôi muốn xem tin tức bóng đá\n",
      "Response answer:  Hãy cùng nói về một vài tin tức bóng đá thú vị! Lionel Messi đã trở lại đội tuyển Argentina, sẵn sàng giúp họ bảo đảm vị trí của mình tại World Cup 2026. Messi trở lại sau một thời gian dài bị chấn thương, và anh ấy rất háo hức đóng góp vào thành công của đội. Trong khi đó, Jhon Duran của Aston Villa đã ghi một bàn thắng quan trọng vào lưới Bayern Munich tại Champions League, giúp đội bóng của anh ấy bảo đảm một chiến thắng lịch sử. Đó là một khoảng thời gian hồi hộp cho người hâm mộ bóng đá! Dưới đây là đường dẫn đến các bài viết:\n",
      "Response url: ['https://vnexpress.net/dau-an-messi-trong-ngay-lich-su-cua-inter-miami-4799716.html', 'https://vnexpress.net/aston-villa-quat-nga-bayern-4799574.html', 'https://vnexpress.net/messi-tro-lai-tuyen-argentina-4799576.html']\n",
      "INFO:     127.0.0.1:47596 - \"POST /qa-vn-news HTTP/1.1\" 200 OK\n",
      "Received question: Hãy cho tôi xem một số tin tức về bóng đá\n",
      "Response answer:  Hãy cùng nói về một vài tin tức bóng đá thú vị! Lionel Messi đã trở lại đội tuyển Argentina, sẵn sàng giúp họ bảo đảm vị trí của mình tại World Cup 2026. Messi trở lại sau một thời gian dài bị chấn thương, và anh ấy rất háo hức đóng góp vào thành công của đội. Trong khi đó, Jhon Duran của Aston Villa đã ghi một bàn thắng quan trọng vào lưới Bayern Munich tại Champions League, giúp đội bóng của anh ấy bảo đảm một chiến thắng lịch sử. Đó là một khoảng thời gian hồi hộp cho người hâm mộ bóng đá! Dưới đây là đường dẫn đến các bài viết:\n",
      "Response url: ['https://vnexpress.net/dau-an-messi-trong-ngay-lich-su-cua-inter-miami-4799716.html', 'https://vnexpress.net/aston-villa-quat-nga-bayern-4799574.html', 'https://vnexpress.net/messi-tro-lai-tuyen-argentina-4799576.html']\n",
      "INFO:     127.0.0.1:40842 - \"POST /qa-vn-news HTTP/1.1\" 200 OK\n",
      "Received question: trong trận đấu ngày hôm đó, messi ghi bao nhiêu bàn thắng\n",
      "Response answer:  Lionel Messi ghi hai bàn trong trận đấu.\n",
      "Response url: ['https://vnexpress.net/messi-giup-inter-miami-vo-dich-som-o-mls-4799640.html']\n",
      "INFO:     127.0.0.1:35210 - \"POST /qa-vn-news HTTP/1.1\" 200 OK\n"
     ]
    }
   ],
   "source": [
    "from pyngrok import ngrok\n",
    "import subprocess\n",
    "import time\n",
    "\n",
    "# Set ngrok authentication token\n",
    "ngrok.set_auth_token(\"2mwuWCzayuo3QMhfoU9uiILskaw_DpPYrfQx1mNnZ5qYHv9p\")\n",
    "\n",
    "# Start ngrok\n",
    "ngrok_process = subprocess.Popen(['ngrok', 'http', '8000'])  # Adjust the port if needed\n",
    "time.sleep(2)  # Give ngrok some time to initialize\n",
    "\n",
    "# # # Get the public URL for ngrok\n",
    "#ngrok_url = ngrok.connect(8000)\n",
    "#print(f\"Ngrok tunnel \\\"{ngrok_url}\\\" -> \\\"http://127.0.0.1:8000\\\"\")\n",
    "\n",
    "# Start your FastAPI or Streamlit app\n",
    "app_process = subprocess.Popen(['python', 'main.py'])  # Ensure 'main.py' is the correct entry point\n",
    "\n",
    "# Start localtunnel\n",
    "localtunnel_process = subprocess.Popen(['npx', 'localtunnel', '--port', '8501'])\n",
    "\n",
    "# Keep the notebook running\n",
    "try:\n",
    "    while True:\n",
    "        time.sleep(1)  # Keep the loop running\n",
    "except KeyboardInterrupt:\n",
    "    # Clean up on exit\n",
    "    ngrok_process.terminate()\n",
    "    app_process.terminate()\n",
    "    localtunnel_process.terminate()\n"
   ]
  }
 ],
 "metadata": {
  "kaggle": {
   "accelerator": "nvidiaTeslaT4",
   "dataSources": [],
   "dockerImageVersionId": 30786,
   "isGpuEnabled": true,
   "isInternetEnabled": true,
   "language": "python",
   "sourceType": "notebook"
  },
  "kernelspec": {
   "display_name": "Python 3",
   "language": "python",
   "name": "python3"
  },
  "language_info": {
   "codemirror_mode": {
    "name": "ipython",
    "version": 3
   },
   "file_extension": ".py",
   "mimetype": "text/x-python",
   "name": "python",
   "nbconvert_exporter": "python",
   "pygments_lexer": "ipython3",
   "version": "3.10.14"
  }
 },
 "nbformat": 4,
 "nbformat_minor": 4
}
