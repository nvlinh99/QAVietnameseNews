{
 "cells": [
  {
   "cell_type": "code",
   "execution_count": 1,
   "metadata": {},
   "outputs": [],
   "source": [
    "import json\n",
    "import pickle"
   ]
  },
  {
   "cell_type": "code",
   "execution_count": 4,
   "metadata": {},
   "outputs": [
    {
     "name": "stdout",
     "output_type": "stream",
     "text": [
      "All: ['https://vnexpress.net/tai-tu-daniel-day-lewis-tai-xuat-sau-7-nam-vang-bong-4799294.html\\n', 'https://vnexpress.net/cillian-murphy-tro-lai-dong-peaky-blinders-4799079.html\\n', 'https://vnexpress.net/johnny-depp-mo-trien-lam-nghe-thuat-dau-tien-o-new-york-4799257.html']\n",
      "Corresponding URLs:\n",
      "https://vnexpress.net/tai-tu-daniel-day-lewis-tai-xuat-sau-7-nam-vang-bong-4799294.html\n",
      "\n",
      "https://vnexpress.net/phong-do-chi-bao-khi-roi-showbiz-4797197.html\n",
      "\n",
      "https://vnexpress.net/quan-an-noi-tieng-nho-dich-vu-danh-mang-khach-4798030.html\n",
      "\n"
     ]
    }
   ],
   "source": [
    "\n",
    "json_file_path = './test/score_0_round_0.json'  # Replace with your actual JSON file path\n",
    "with open(json_file_path, 'r', encoding='utf-8') as json_file:\n",
    "    json_data = json.load(json_file)\n",
    "\n",
    "# Load the pickle file\n",
    "pickle_file_path = './test/total_urls.pkl'  # Replace with your actual pickle file path\n",
    "with open(pickle_file_path, 'rb') as pickle_file:\n",
    "    urls_data = pickle.load(pickle_file)\n",
    "\n",
    "# Assuming urls_data is a list of URLs\n",
    "for entry in json_data[:1]:\n",
    "    list_id = entry['list_id']\n",
    "    list_url = entry['list_url']\n",
    "    print(f\"All: {list_url}\")\n",
    "    \n",
    "    # Print the corresponding URLs from the pickle file based on list_id\n",
    "    print(\"Corresponding URLs:\")\n",
    "    for id in list_id:\n",
    "        if id < len(urls_data):  # Check if the index is valid\n",
    "            print(urls_data[id])  # Print the URL at the index\n",
    "        else:\n",
    "            print(f\"Index {id} is out of bounds for the URLs list.\")\n"
   ]
  }
 ],
 "metadata": {
  "kernelspec": {
   "display_name": "LLM",
   "language": "python",
   "name": "python3"
  },
  "language_info": {
   "codemirror_mode": {
    "name": "ipython",
    "version": 3
   },
   "file_extension": ".py",
   "mimetype": "text/x-python",
   "name": "python",
   "nbconvert_exporter": "python",
   "pygments_lexer": "ipython3",
   "version": "3.10.14"
  }
 },
 "nbformat": 4,
 "nbformat_minor": 2
}
